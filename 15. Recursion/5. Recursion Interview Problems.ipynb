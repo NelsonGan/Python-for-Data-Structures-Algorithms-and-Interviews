{
 "cells": [
  {
   "cell_type": "markdown",
   "id": "spatial-ridge",
   "metadata": {},
   "source": [
    "<h1>Reverse a String</h1>"
   ]
  },
  {
   "cell_type": "code",
   "execution_count": null,
   "id": "champion-technician",
   "metadata": {},
   "outputs": [],
   "source": [
    "def reverse(s):\n",
    "    \n",
    "    if len(s) == 1:\n",
    "        return s\n",
    "    else:\n",
    "        return reverse(s[1:]) + s[0]"
   ]
  },
  {
   "cell_type": "code",
   "execution_count": null,
   "id": "greenhouse-jewel",
   "metadata": {},
   "outputs": [],
   "source": [
    "reverse('algorithm')"
   ]
  },
  {
   "cell_type": "markdown",
   "id": "plain-retail",
   "metadata": {},
   "source": [
    "<h1>String Permutation</h1>"
   ]
  },
  {
   "cell_type": "code",
   "execution_count": 79,
   "id": "thick-semiconductor",
   "metadata": {},
   "outputs": [],
   "source": [
    "def permute(s):\n",
    "    \n",
    "    if len(s) == 1:\n",
    "        return [s]\n",
    "    \n",
    "    perms = permute(s[1:])\n",
    "    first_letter = s[0]\n",
    "    result = []\n",
    "    \n",
    "    #iterate through the permutations in list\n",
    "    for perm in perms:\n",
    "        #iterate through each permutation, +1 because of locations to insert\n",
    "        for i in range(len(perm)+1):\n",
    "            #perm[:i] is front letter, perm[i:] is behind letter\n",
    "            result.append(perm[:i] + first_letter + perm[i:])\n",
    "            \n",
    "    return result\n",
    "    "
   ]
  },
  {
   "cell_type": "code",
   "execution_count": 82,
   "id": "charming-compact",
   "metadata": {},
   "outputs": [
    {
     "data": {
      "text/plain": [
       "['bcd', 'cbd', 'cdb', 'bdc', 'dbc', 'dcb']"
      ]
     },
     "execution_count": 82,
     "metadata": {},
     "output_type": "execute_result"
    }
   ],
   "source": [
    "permute('bcd')"
   ]
  },
  {
   "cell_type": "markdown",
   "id": "buried-spine",
   "metadata": {},
   "source": [
    "<h1>Fibonacci Sequence</h1>"
   ]
  },
  {
   "cell_type": "code",
   "execution_count": null,
   "id": "parliamentary-cursor",
   "metadata": {},
   "outputs": [],
   "source": [
    "#recursively\n",
    "def fib_rec(num):\n",
    "    \n",
    "    if num == 0:\n",
    "        return 0\n",
    "    if num == 1:\n",
    "        return 1\n",
    "    \n",
    "    return fib_rec(num-1) + fib_rec(num-2)"
   ]
  },
  {
   "cell_type": "code",
   "execution_count": null,
   "id": "square-settle",
   "metadata": {},
   "outputs": [],
   "source": [
    "%%time\n",
    "fib_rec(30)"
   ]
  },
  {
   "cell_type": "code",
   "execution_count": null,
   "id": "aware-assault",
   "metadata": {},
   "outputs": [],
   "source": [
    "cache = {}\n",
    "\n",
    "#dynamically\n",
    "def fib_dyn(num):\n",
    "    \n",
    "    if num == 0:\n",
    "        return 0\n",
    "    if num == 1:\n",
    "        return 1\n",
    "        \n",
    "    if num not in cache:\n",
    "        cache[num] = fib_dyn(num-1) + fib_dyn(num-2)\n",
    "\n",
    "    return cache[num]"
   ]
  },
  {
   "cell_type": "code",
   "execution_count": null,
   "id": "medical-perspective",
   "metadata": {},
   "outputs": [],
   "source": [
    "%%time\n",
    "fib_dyn(30)"
   ]
  },
  {
   "cell_type": "code",
   "execution_count": 83,
   "id": "incorrect-charlotte",
   "metadata": {},
   "outputs": [],
   "source": [
    "#interatively\n",
    "def fib_intr(num):\n",
    "    \n",
    "    if num == 1:\n",
    "        return 1\n",
    "    \n",
    "    n1 = 0\n",
    "    n2 = 1\n",
    "    count = 1\n",
    "    \n",
    "    while count < num:\n",
    "        temp = n1\n",
    "        n1 = n2\n",
    "        n2 = n1 + temp\n",
    "        count += 1\n",
    "        \n",
    "    return n2"
   ]
  },
  {
   "cell_type": "code",
   "execution_count": 85,
   "id": "fantastic-cylinder",
   "metadata": {},
   "outputs": [
    {
     "data": {
      "text/plain": [
       "55"
      ]
     },
     "execution_count": 85,
     "metadata": {},
     "output_type": "execute_result"
    }
   ],
   "source": [
    "fib_intr(10)"
   ]
  },
  {
   "cell_type": "markdown",
   "id": "copyrighted-relay",
   "metadata": {},
   "source": [
    "<h1>Coin Change</h1>"
   ]
  },
  {
   "cell_type": "code",
   "execution_count": null,
   "id": "impaired-trouble",
   "metadata": {},
   "outputs": [],
   "source": [
    "def rec_coin(target,coins):\n",
    "    \n",
    "    \n",
    "    \n",
    "    pass"
   ]
  }
 ],
 "metadata": {
  "kernelspec": {
   "display_name": "Python 3",
   "language": "python",
   "name": "python3"
  },
  "language_info": {
   "codemirror_mode": {
    "name": "ipython",
    "version": 3
   },
   "file_extension": ".py",
   "mimetype": "text/x-python",
   "name": "python",
   "nbconvert_exporter": "python",
   "pygments_lexer": "ipython3",
   "version": "3.8.5"
  }
 },
 "nbformat": 4,
 "nbformat_minor": 5
}
