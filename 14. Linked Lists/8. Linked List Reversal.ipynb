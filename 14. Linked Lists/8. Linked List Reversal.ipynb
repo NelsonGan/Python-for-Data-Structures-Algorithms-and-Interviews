{
 "cells": [
  {
   "cell_type": "markdown",
   "id": "compound-villa",
   "metadata": {},
   "source": [
    "<h1>Problem</h1>\n",
    "\n",
    "Write a function to reverse a Linked List in place. The function will take in the head of the list as input and return the new head of the list.\n",
    "\n",
    "You are given the example Linked List Node class:"
   ]
  },
  {
   "cell_type": "code",
   "execution_count": 1,
   "id": "fleet-mystery",
   "metadata": {},
   "outputs": [],
   "source": [
    "class Node(object):\n",
    "    \n",
    "    def __init__(self,value):\n",
    "        self.value = value\n",
    "        self.nextnode = None"
   ]
  },
  {
   "cell_type": "code",
   "execution_count": 22,
   "id": "adjusted-honduras",
   "metadata": {},
   "outputs": [],
   "source": [
    "def reverse(head):\n",
    "\n",
    "    previous = None\n",
    "    nextnode = None\n",
    "    \n",
    "    while head:\n",
    "        #Create a new pointer to point to head's next node (temporary variable)\n",
    "        nextnode = head.nextnode\n",
    "        \n",
    "        #Set the head's next node to the previous variable\n",
    "        head.nextnode = previous\n",
    "        \n",
    "        #Set the previous variable as the head\n",
    "        previous = head\n",
    "        \n",
    "        #Move marker to next node\n",
    "        head = nextnode\n",
    "        \n",
    "    return previous"
   ]
  },
  {
   "cell_type": "markdown",
   "id": "enabling-foundation",
   "metadata": {},
   "source": [
    "<h1>Test Your Solution</h1>\n",
    "\n",
    "Note, this isn't a classic run cell for testing your solution, please read the statements below carefully\n",
    "\n",
    "You should be able to easily test your own solution to make sure it works. Given the short list a,b,c,d with values 1,2,3,4. Check the effect of your reverse function and make sure the results match the logic here below:"
   ]
  },
  {
   "cell_type": "code",
   "execution_count": 18,
   "id": "alternative-outline",
   "metadata": {},
   "outputs": [
    {
     "name": "stdout",
     "output_type": "stream",
     "text": [
      "2\n",
      "3\n",
      "4\n"
     ]
    }
   ],
   "source": [
    "# Create a list of 4 nodes\n",
    "a = Node(1)\n",
    "b = Node(2)\n",
    "c = Node(3)\n",
    "d = Node(4)\n",
    "\n",
    "# Set up order a,b,c,d with values 1,2,3,4\n",
    "a.nextnode = b\n",
    "b.nextnode = c\n",
    "c.nextnode = d\n",
    "\n",
    "# Check the values of the nodes coming after a, b and c:\n",
    "print(a.nextnode.value)\n",
    "print(b.nextnode.value)\n",
    "print(c.nextnode.value)"
   ]
  },
  {
   "cell_type": "code",
   "execution_count": 19,
   "id": "harmful-mouse",
   "metadata": {},
   "outputs": [
    {
     "ename": "AttributeError",
     "evalue": "'NoneType' object has no attribute 'value'",
     "output_type": "error",
     "traceback": [
      "\u001b[0;31m---------------------------------------------------------------------------\u001b[0m",
      "\u001b[0;31mAttributeError\u001b[0m                            Traceback (most recent call last)",
      "\u001b[0;32m<ipython-input-19-81f7f1682cfe>\u001b[0m in \u001b[0;36m<module>\u001b[0;34m\u001b[0m\n\u001b[0;32m----> 1\u001b[0;31m \u001b[0md\u001b[0m\u001b[0;34m.\u001b[0m\u001b[0mnextnode\u001b[0m\u001b[0;34m.\u001b[0m\u001b[0mvalue\u001b[0m\u001b[0;34m\u001b[0m\u001b[0;34m\u001b[0m\u001b[0m\n\u001b[0m",
      "\u001b[0;31mAttributeError\u001b[0m: 'NoneType' object has no attribute 'value'"
     ]
    }
   ],
   "source": [
    "d.nextnode.value "
   ]
  },
  {
   "cell_type": "code",
   "execution_count": 23,
   "id": "apart-stanley",
   "metadata": {},
   "outputs": [
    {
     "data": {
      "text/plain": [
       "<__main__.Node at 0x7f98a03f4d60>"
      ]
     },
     "execution_count": 23,
     "metadata": {},
     "output_type": "execute_result"
    }
   ],
   "source": [
    "reverse(a)"
   ]
  },
  {
   "cell_type": "code",
   "execution_count": 24,
   "id": "convenient-berlin",
   "metadata": {},
   "outputs": [
    {
     "name": "stdout",
     "output_type": "stream",
     "text": [
      "3\n",
      "2\n",
      "1\n"
     ]
    }
   ],
   "source": [
    "# Check the values of the nodes coming after a, b and c:\n",
    "print(d.nextnode.value)\n",
    "print(c.nextnode.value)\n",
    "print(b.nextnode.value)"
   ]
  },
  {
   "cell_type": "code",
   "execution_count": 25,
   "id": "casual-seattle",
   "metadata": {},
   "outputs": [
    {
     "ename": "AttributeError",
     "evalue": "'NoneType' object has no attribute 'value'",
     "output_type": "error",
     "traceback": [
      "\u001b[0;31m---------------------------------------------------------------------------\u001b[0m",
      "\u001b[0;31mAttributeError\u001b[0m                            Traceback (most recent call last)",
      "\u001b[0;32m<ipython-input-25-d2e6eadee4de>\u001b[0m in \u001b[0;36m<module>\u001b[0;34m\u001b[0m\n\u001b[0;32m----> 1\u001b[0;31m \u001b[0mprint\u001b[0m \u001b[0;34m(\u001b[0m\u001b[0ma\u001b[0m\u001b[0;34m.\u001b[0m\u001b[0mnextnode\u001b[0m\u001b[0;34m.\u001b[0m\u001b[0mvalue\u001b[0m\u001b[0;34m)\u001b[0m\u001b[0;34m\u001b[0m\u001b[0;34m\u001b[0m\u001b[0m\n\u001b[0m",
      "\u001b[0;31mAttributeError\u001b[0m: 'NoneType' object has no attribute 'value'"
     ]
    }
   ],
   "source": [
    "print (a.nextnode.value)"
   ]
  },
  {
   "cell_type": "code",
   "execution_count": null,
   "id": "modern-aquatic",
   "metadata": {},
   "outputs": [],
   "source": [
    "def reverse_linked_list(head):\n",
    "    \n",
    "    previous = None\n",
    "    nextNode = None\n",
    "    \n",
    "    while nextNode != None:\n",
    "        nextNode = head.nextNode\n",
    "        \n",
    "        head.nextNode = previous\n",
    "        \n",
    "        previous = head\n",
    "        \n",
    "        head = nextNode\n",
    "        \n",
    "        "
   ]
  }
 ],
 "metadata": {
  "kernelspec": {
   "display_name": "Python 3",
   "language": "python",
   "name": "python3"
  },
  "language_info": {
   "codemirror_mode": {
    "name": "ipython",
    "version": 3
   },
   "file_extension": ".py",
   "mimetype": "text/x-python",
   "name": "python",
   "nbconvert_exporter": "python",
   "pygments_lexer": "ipython3",
   "version": "3.8.5"
  }
 },
 "nbformat": 4,
 "nbformat_minor": 5
}
