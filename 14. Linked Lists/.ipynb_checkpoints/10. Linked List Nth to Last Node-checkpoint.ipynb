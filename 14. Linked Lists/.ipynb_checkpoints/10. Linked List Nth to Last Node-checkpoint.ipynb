{
 "cells": [
  {
   "cell_type": "markdown",
   "id": "printable-minute",
   "metadata": {},
   "source": [
    "<h1>Problem Statement</h1>\n",
    "\n",
    "Write a function that takes a head node and an integer value n and then returns the nth to last node in the linked list. For example, given:"
   ]
  },
  {
   "cell_type": "code",
   "execution_count": 3,
   "id": "tested-savage",
   "metadata": {},
   "outputs": [],
   "source": [
    "class Node():\n",
    "    \n",
    "    def __init__(self, value):\n",
    "        self.value = value\n",
    "        self.nextnode = None"
   ]
  },
  {
   "cell_type": "code",
   "execution_count": 57,
   "id": "suspended-science",
   "metadata": {},
   "outputs": [],
   "source": [
    "def nth_to_last_node(n, head):\n",
    "    \n",
    "    ##Calculate the maximum size of linked list\n",
    "    current = head\n",
    "    counter = 1\n",
    "    while current.nextnode != None:\n",
    "        current = current.nextnode\n",
    "        counter += 1\n",
    "    \n",
    "    ##Find the index of the chosen element\n",
    "    chosen = counter - n\n",
    "    counter = 1\n",
    "    \n",
    "    while counter <= chosen:\n",
    "        head = head.nextnode\n",
    "        counter += 1\n",
    "        \n",
    "    return head"
   ]
  },
  {
   "cell_type": "code",
   "execution_count": 15,
   "id": "limiting-nicaragua",
   "metadata": {},
   "outputs": [],
   "source": [
    "def nth_to_last_node(n,head):\n",
    "    \n",
    "    ##Set two markers\n",
    "    marker1 = head\n",
    "    marker2 = head\n",
    "    \n",
    "    ##Make marker1 run ahead\n",
    "    for i in range(n-1):\n",
    "        \n",
    "        if not marker1.nextnode:\n",
    "            raise LookupError(\"Error: n is larger than linked list\")\n",
    "        \n",
    "        marker1 = marker1.nextnode\n",
    "    \n",
    "    ##If marker1 reached end, means that marker2 is at desired position\n",
    "    while marker1.nextnode:\n",
    "        marker1 = marker1.nextnode\n",
    "        marker2 = marker2.nextnode\n",
    "        \n",
    "    return marker2"
   ]
  },
  {
   "cell_type": "code",
   "execution_count": 17,
   "id": "remarkable-finder",
   "metadata": {},
   "outputs": [
    {
     "data": {
      "text/plain": [
       "4"
      ]
     },
     "execution_count": 17,
     "metadata": {},
     "output_type": "execute_result"
    }
   ],
   "source": [
    "a = Node(1)\n",
    "b = Node(2)\n",
    "c = Node(3)\n",
    "d = Node(4)\n",
    "e = Node(5)\n",
    "\n",
    "a.nextnode = b\n",
    "b.nextnode = c\n",
    "c.nextnode = d\n",
    "d.nextnode = e\n",
    "\n",
    "nth_to_last_node(2, a).value"
   ]
  },
  {
   "cell_type": "markdown",
   "id": "expanded-shelf",
   "metadata": {},
   "source": [
    "<h1>Test</h1>\n",
    "\n",
    "Test your codes here!"
   ]
  },
  {
   "cell_type": "code",
   "execution_count": 9,
   "id": "double-jersey",
   "metadata": {},
   "outputs": [
    {
     "name": "stdout",
     "output_type": "stream",
     "text": [
      "ALL TEST CASES PASSED\n"
     ]
    }
   ],
   "source": [
    "\"\"\"\n",
    "RUN THIS CELL TO TEST YOUR SOLUTION AGAINST A TEST CASE \n",
    "\n",
    "PLEASE NOTE THIS IS JUST ONE CASE\n",
    "\"\"\"\n",
    "\n",
    "from nose.tools import assert_equal\n",
    "\n",
    "a = Node(1)\n",
    "b = Node(2)\n",
    "c = Node(3)\n",
    "d = Node(4)\n",
    "e = Node(5)\n",
    "\n",
    "a.nextnode = b\n",
    "b.nextnode = c\n",
    "c.nextnode = d\n",
    "d.nextnode = e\n",
    "\n",
    "####\n",
    "\n",
    "class TestNLast(object):\n",
    "    \n",
    "    def test(self,sol):\n",
    "        \n",
    "        assert_equal(sol(2,a),d)\n",
    "        print ('ALL TEST CASES PASSED')\n",
    "        \n",
    "# Run tests\n",
    "t = TestNLast()\n",
    "t.test(nth_to_last_node)"
   ]
  },
  {
   "cell_type": "code",
   "execution_count": null,
   "id": "funded-pizza",
   "metadata": {},
   "outputs": [],
   "source": []
  }
 ],
 "metadata": {
  "kernelspec": {
   "display_name": "Python 3",
   "language": "python",
   "name": "python3"
  },
  "language_info": {
   "codemirror_mode": {
    "name": "ipython",
    "version": 3
   },
   "file_extension": ".py",
   "mimetype": "text/x-python",
   "name": "python",
   "nbconvert_exporter": "python",
   "pygments_lexer": "ipython3",
   "version": "3.8.5"
  }
 },
 "nbformat": 4,
 "nbformat_minor": 5
}
