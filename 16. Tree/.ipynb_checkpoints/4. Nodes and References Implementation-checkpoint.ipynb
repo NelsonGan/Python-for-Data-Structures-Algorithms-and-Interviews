{
 "cells": [
  {
   "cell_type": "code",
   "execution_count": 17,
   "id": "suburban-horizontal",
   "metadata": {},
   "outputs": [],
   "source": [
    "#each tree node is a binarytree() instance\n",
    "class BinaryTree():\n",
    "    \n",
    "    #constructor to definfe root(any object as parameter)\n",
    "    def __init__(self,rootObj):\n",
    "        self.key = rootObj\n",
    "        self.leftChild = None\n",
    "        self.rightChild = None\n",
    "        \n",
    "    #insert new node to left\n",
    "    def insertLeft(self,newNode):\n",
    "        if self.leftChild == None:\n",
    "            self.leftChild = BinaryTree(newNode)\n",
    "        else:\n",
    "            #push the old branch down\n",
    "            t = BinaryTree(newNode)\n",
    "            t.leftChild = self.leftChild\n",
    "            self.leftChild = t\n",
    "    \n",
    "    #insert new node to right\n",
    "    def insertRight(self,newNode):\n",
    "        if self.rightChild == None:\n",
    "            self.rightChild = BinaryTree(newNode)\n",
    "        else:\n",
    "            #push the old branch down\n",
    "            t = BinaryTree(newNode)\n",
    "            t.rightChild = self.rightChild\n",
    "            self.rightChild = t\n",
    "\n",
    "    #get the left child\n",
    "    def getLeftChild(self):\n",
    "        return self.leftChild\n",
    "\n",
    "    #get the right child\n",
    "    def getRightChild(self):\n",
    "        return self.rightChild\n",
    "    \n",
    "    #set root value\n",
    "    def setRootVal(self,obj):\n",
    "        self.key = obj\n",
    "     \n",
    "    #get root value\n",
    "    def getRootVal(self):\n",
    "        return self.key"
   ]
  },
  {
   "cell_type": "code",
   "execution_count": 20,
   "id": "general-fraud",
   "metadata": {},
   "outputs": [],
   "source": [
    "r = BinaryTree('Family Tree')"
   ]
  },
  {
   "cell_type": "code",
   "execution_count": 21,
   "id": "embedded-apparatus",
   "metadata": {},
   "outputs": [],
   "source": [
    "r.insertLeft('Dad')\n",
    "r.insertRight('Mom')"
   ]
  },
  {
   "cell_type": "code",
   "execution_count": 23,
   "id": "hourly-belfast",
   "metadata": {},
   "outputs": [
    {
     "data": {
      "text/plain": [
       "'Mom'"
      ]
     },
     "execution_count": 23,
     "metadata": {},
     "output_type": "execute_result"
    }
   ],
   "source": [
    "r.getRightChild().getRootVal()"
   ]
  },
  {
   "cell_type": "code",
   "execution_count": 24,
   "id": "accessory-lobby",
   "metadata": {},
   "outputs": [],
   "source": [
    "r.insertLeft('Grandad')"
   ]
  },
  {
   "cell_type": "code",
   "execution_count": 25,
   "id": "judicial-directory",
   "metadata": {},
   "outputs": [
    {
     "data": {
      "text/plain": [
       "'Grandad'"
      ]
     },
     "execution_count": 25,
     "metadata": {},
     "output_type": "execute_result"
    }
   ],
   "source": [
    "r.getLeftChild().getRootVal()"
   ]
  },
  {
   "cell_type": "code",
   "execution_count": null,
   "id": "accepting-underground",
   "metadata": {},
   "outputs": [],
   "source": []
  }
 ],
 "metadata": {
  "kernelspec": {
   "display_name": "Python 3",
   "language": "python",
   "name": "python3"
  },
  "language_info": {
   "codemirror_mode": {
    "name": "ipython",
    "version": 3
   },
   "file_extension": ".py",
   "mimetype": "text/x-python",
   "name": "python",
   "nbconvert_exporter": "python",
   "pygments_lexer": "ipython3",
   "version": "3.8.5"
  }
 },
 "nbformat": 4,
 "nbformat_minor": 5
}
