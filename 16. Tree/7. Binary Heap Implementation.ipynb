{
 "cells": [
  {
   "cell_type": "code",
   "execution_count": 5,
   "id": "administrative-madness",
   "metadata": {},
   "outputs": [],
   "source": [
    "#Binary Min Heap Tree\n",
    "class BinHeap():\n",
    "    \n",
    "    def __init__(self):\n",
    "        self.heapList = [0]\n",
    "        self.currentSize = 0\n",
    "        \n",
    "    def percUp(self,i):\n",
    "        #i//2 is i's parent node\n",
    "        while i//2>0:\n",
    "            \n",
    "            #if child is less than parent, swap\n",
    "            if self.heapList[i] < self.heapList[i//2]:\n",
    "                tmp = self.heapList[i//2]\n",
    "                self.heapList[i//2] = self.heapList[i]\n",
    "                self.heapList[i] = tmp\n",
    "            else:\n",
    "                #break loop if no swap required\n",
    "                break\n",
    "            \n",
    "            #move up one level in tree\n",
    "            i = i//2\n",
    "            \n",
    "    def insert(self,k):\n",
    "        #insert to last index\n",
    "        self.heapList.append(k)\n",
    "        self.currentSize += 1\n",
    "        #check if structure still valid\n",
    "        self.percUp(self.currentSize)\n",
    "        \n",
    "    def percDown(self,i):\n",
    "        while (i*2) <= self.currentSize:\n",
    "            #find the minimum branch\n",
    "            mc = self.minChild(i)\n",
    "            \n",
    "            #if root is lower than branch, swap\n",
    "            if self.heapList[i] > self.heapList[mc]:\n",
    "                tmp = self.heapList[i]\n",
    "                self.heapList[i] = self.heapList[mc]\n",
    "                self.heapList[mc] = tmp\n",
    "            else:\n",
    "                #break loop if no swap required\n",
    "                break\n",
    "            i = mc\n",
    "            \n",
    "            \n",
    "    def minChild(self,i):\n",
    "        #if only left branch present, return left branch\n",
    "        if i*2 + 1 > self.currentSize:\n",
    "            return i * 2\n",
    "        #return the smaller branch\n",
    "        else:\n",
    "            if self.heapList[i*2] < self.heapList[i*2+1]:\n",
    "                return i * 2\n",
    "            else:\n",
    "                return i * 2 + 1\n",
    "    \n",
    "    #delete and return minimum (root)\n",
    "    def delMin(self):\n",
    "        #store return value\n",
    "        retval = self.heapList[1]\n",
    "        #send root to last \n",
    "        self.heapList[1] = self.heapList[self.currentSize]\n",
    "        #reduce size\n",
    "        self.currentSize = self.currentSize - 1\n",
    "        #remove last (root)\n",
    "        self.heapList.pop()\n",
    "        #perc down to ensure structure is valid\n",
    "        self.percDown(1)\n",
    "        \n",
    "        return retval\n",
    "    \n",
    "    def buildHeap(self,alist):\n",
    "        i = len(alist) // 2\n",
    "        self.currentSize = len(alist)\n",
    "        self.heapList = [0] + alist[:]\n",
    "        \n",
    "        #going up the list\n",
    "        while (i>0):\n",
    "            self.percDown(i)\n",
    "            i -= 1"
   ]
  },
  {
   "cell_type": "code",
   "execution_count": 12,
   "id": "permanent-evidence",
   "metadata": {},
   "outputs": [],
   "source": [
    "a = BinHeap()\n",
    "a.buildHeap([9,6,5,2,3])"
   ]
  },
  {
   "cell_type": "code",
   "execution_count": 14,
   "id": "different-scientist",
   "metadata": {},
   "outputs": [],
   "source": [
    "a.insert(1)"
   ]
  },
  {
   "cell_type": "code",
   "execution_count": 22,
   "id": "encouraging-dancing",
   "metadata": {},
   "outputs": [
    {
     "ename": "IndexError",
     "evalue": "list index out of range",
     "output_type": "error",
     "traceback": [
      "\u001b[0;31m---------------------------------------------------------------------------\u001b[0m",
      "\u001b[0;31mIndexError\u001b[0m                                Traceback (most recent call last)",
      "\u001b[0;32m<ipython-input-22-5666056ba1e3>\u001b[0m in \u001b[0;36m<module>\u001b[0;34m\u001b[0m\n\u001b[0;32m----> 1\u001b[0;31m \u001b[0ma\u001b[0m\u001b[0;34m.\u001b[0m\u001b[0mdelMin\u001b[0m\u001b[0;34m(\u001b[0m\u001b[0;34m)\u001b[0m\u001b[0;34m\u001b[0m\u001b[0;34m\u001b[0m\u001b[0m\n\u001b[0m",
      "\u001b[0;32m<ipython-input-5-44489ef2b087>\u001b[0m in \u001b[0;36mdelMin\u001b[0;34m(self)\u001b[0m\n\u001b[1;32m     58\u001b[0m     \u001b[0;32mdef\u001b[0m \u001b[0mdelMin\u001b[0m\u001b[0;34m(\u001b[0m\u001b[0mself\u001b[0m\u001b[0;34m)\u001b[0m\u001b[0;34m:\u001b[0m\u001b[0;34m\u001b[0m\u001b[0;34m\u001b[0m\u001b[0m\n\u001b[1;32m     59\u001b[0m         \u001b[0;31m#store return value\u001b[0m\u001b[0;34m\u001b[0m\u001b[0;34m\u001b[0m\u001b[0;34m\u001b[0m\u001b[0m\n\u001b[0;32m---> 60\u001b[0;31m         \u001b[0mretval\u001b[0m \u001b[0;34m=\u001b[0m \u001b[0mself\u001b[0m\u001b[0;34m.\u001b[0m\u001b[0mheapList\u001b[0m\u001b[0;34m[\u001b[0m\u001b[0;36m1\u001b[0m\u001b[0;34m]\u001b[0m\u001b[0;34m\u001b[0m\u001b[0;34m\u001b[0m\u001b[0m\n\u001b[0m\u001b[1;32m     61\u001b[0m         \u001b[0;31m#send root to last\u001b[0m\u001b[0;34m\u001b[0m\u001b[0;34m\u001b[0m\u001b[0;34m\u001b[0m\u001b[0m\n\u001b[1;32m     62\u001b[0m         \u001b[0mself\u001b[0m\u001b[0;34m.\u001b[0m\u001b[0mheapList\u001b[0m\u001b[0;34m[\u001b[0m\u001b[0;36m1\u001b[0m\u001b[0;34m]\u001b[0m \u001b[0;34m=\u001b[0m \u001b[0mself\u001b[0m\u001b[0;34m.\u001b[0m\u001b[0mheapList\u001b[0m\u001b[0;34m[\u001b[0m\u001b[0mself\u001b[0m\u001b[0;34m.\u001b[0m\u001b[0mcurrentSize\u001b[0m\u001b[0;34m]\u001b[0m\u001b[0;34m\u001b[0m\u001b[0;34m\u001b[0m\u001b[0m\n",
      "\u001b[0;31mIndexError\u001b[0m: list index out of range"
     ]
    }
   ],
   "source": [
    "a.delMin()"
   ]
  },
  {
   "cell_type": "code",
   "execution_count": null,
   "id": "tested-police",
   "metadata": {},
   "outputs": [],
   "source": []
  }
 ],
 "metadata": {
  "kernelspec": {
   "display_name": "Python 3",
   "language": "python",
   "name": "python3"
  },
  "language_info": {
   "codemirror_mode": {
    "name": "ipython",
    "version": 3
   },
   "file_extension": ".py",
   "mimetype": "text/x-python",
   "name": "python",
   "nbconvert_exporter": "python",
   "pygments_lexer": "ipython3",
   "version": "3.8.5"
  }
 },
 "nbformat": 4,
 "nbformat_minor": 5
}
