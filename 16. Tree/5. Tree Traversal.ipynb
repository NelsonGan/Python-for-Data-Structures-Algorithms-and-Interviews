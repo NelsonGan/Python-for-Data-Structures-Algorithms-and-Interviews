{
 "cells": [
  {
   "cell_type": "code",
   "execution_count": 1,
   "id": "ceramic-fossil",
   "metadata": {},
   "outputs": [],
   "source": [
    "#each tree node is a binarytree() instance\n",
    "class BinaryTree():\n",
    "    \n",
    "    #constructor to definfe root(any object as parameter)\n",
    "    def __init__(self,rootObj):\n",
    "        self.key = rootObj\n",
    "        self.leftChild = None\n",
    "        self.rightChild = None\n",
    "        \n",
    "    #insert new node to left\n",
    "    def insertLeft(self,newNode):\n",
    "        if self.leftChild == None:\n",
    "            self.leftChild = BinaryTree(newNode)\n",
    "        else:\n",
    "            #push the old branch down\n",
    "            t = BinaryTree(newNode)\n",
    "            t.leftChild = self.leftChild\n",
    "            self.leftChild = t\n",
    "    \n",
    "    #insert new node to right\n",
    "    def insertRight(self,newNode):\n",
    "        if self.rightChild == None:\n",
    "            self.rightChild = BinaryTree(newNode)\n",
    "        else:\n",
    "            #push the old branch down\n",
    "            t = BinaryTree(newNode)\n",
    "            t.rightChild = self.rightChild\n",
    "            self.rightChild = t\n",
    "\n",
    "    #get the left child\n",
    "    def getLeftChild(self):\n",
    "        return self.leftChild\n",
    "\n",
    "    #get the right child\n",
    "    def getRightChild(self):\n",
    "        return self.rightChild\n",
    "    \n",
    "    #set root value\n",
    "    def setRootVal(self,obj):\n",
    "        self.key = obj\n",
    "     \n",
    "    #get root value\n",
    "    def getRootVal(self):\n",
    "        return self.key"
   ]
  },
  {
   "cell_type": "code",
   "execution_count": 38,
   "id": "established-click",
   "metadata": {},
   "outputs": [],
   "source": [
    "#preorder traversal\n",
    "def preorder(tree):\n",
    "    if tree != None:\n",
    "        print(tree.getRootVal())\n",
    "        preorder(tree.getLeftChild())\n",
    "        preorder(tree.getRightChild())\n",
    "\n",
    "#inorder traversal\n",
    "def inorder(tree):\n",
    "    if tree != None:\n",
    "        inorder(tree.getLeftChild())\n",
    "        print(tree.getRootVal())\n",
    "        inorder(tree.getRightChild())\n",
    "\n",
    "#postorder traversal\n",
    "def postorder(tree):\n",
    "    if tree != None:\n",
    "        postorder(tree.getLeftChild())\n",
    "        postorder(tree.getRightChild())\n",
    "        print(tree.getRootVal())"
   ]
  },
  {
   "cell_type": "code",
   "execution_count": 39,
   "id": "decent-advocacy",
   "metadata": {},
   "outputs": [],
   "source": [
    "a = BinaryTree(1)\n",
    "a.insertLeft(4)\n",
    "a.insertLeft(2)\n",
    "a.insertRight(3)\n",
    "a.getLeftChild().insertRight(5)"
   ]
  },
  {
   "cell_type": "code",
   "execution_count": 40,
   "id": "parallel-fitness",
   "metadata": {},
   "outputs": [
    {
     "name": "stdout",
     "output_type": "stream",
     "text": [
      "4\n",
      "5\n",
      "2\n",
      "3\n",
      "1\n"
     ]
    }
   ],
   "source": [
    "postorder(a)"
   ]
  },
  {
   "cell_type": "code",
   "execution_count": null,
   "id": "broad-magnitude",
   "metadata": {},
   "outputs": [],
   "source": []
  }
 ],
 "metadata": {
  "kernelspec": {
   "display_name": "Python 3",
   "language": "python",
   "name": "python3"
  },
  "language_info": {
   "codemirror_mode": {
    "name": "ipython",
    "version": 3
   },
   "file_extension": ".py",
   "mimetype": "text/x-python",
   "name": "python",
   "nbconvert_exporter": "python",
   "pygments_lexer": "ipython3",
   "version": "3.8.5"
  }
 },
 "nbformat": 4,
 "nbformat_minor": 5
}
