{
 "cells": [
  {
   "cell_type": "code",
   "execution_count": 9,
   "metadata": {},
   "outputs": [],
   "source": [
    "def large_cont_sum(arr):\n",
    "    \n",
    "    record = arr.copy()\n",
    "    highest = 0\n",
    "    \n",
    "    for i in range(1, len(record)):\n",
    "        record[i] += record[i-1]\n",
    "    \n",
    "    for i in record:\n",
    "        for j in record:\n",
    "            if abs(i-j) > highest:\n",
    "                highest = max(i,j)\n",
    "                \n",
    "    for i in arr:\n",
    "        if i > highest:\n",
    "            highest = i\n",
    "        \n",
    "    return highest\n",
    "\n",
    "def large_cont_sum2(arr):\n",
    "    \n",
    "    if len(arr) == 0:\n",
    "        return\n",
    "    \n",
    "    max_sum = current_sum = arr[0]\n",
    "    \n",
    "    for i in range(1,len(arr)):\n",
    "        ##used for edge case when current_sum < 0\n",
    "        current_sum = max(current_sum+arr[i],arr[i])\n",
    "        max_sum = max(max_sum,current_sum)\n",
    "        \n",
    "    return max_sum\n"
   ]
  },
  {
   "cell_type": "code",
   "execution_count": 12,
   "metadata": {},
   "outputs": [
    {
     "data": {
      "text/plain": [
       "0"
      ]
     },
     "execution_count": 12,
     "metadata": {},
     "output_type": "execute_result"
    }
   ],
   "source": [
    "large_cont_sum2([-1,1])"
   ]
  },
  {
   "cell_type": "code",
   "execution_count": 35,
   "metadata": {},
   "outputs": [
    {
     "name": "stdout",
     "output_type": "stream",
     "text": [
      "ALL TEST CASES PASSED\n"
     ]
    }
   ],
   "source": [
    "from nose.tools import assert_equal\n",
    "\n",
    "class LargeContTest(object):\n",
    "    def test(self,sol):\n",
    "        assert_equal(sol([1,2,-1,3,4,-1]),9)\n",
    "        assert_equal(sol([1,2,-1,3,4,10,10,-10,-1]),29)\n",
    "        assert_equal(sol([-1,1]),1)\n",
    "        print ('ALL TEST CASES PASSED')\n",
    "        \n",
    "#Run Test\n",
    "t = LargeContTest()\n",
    "t.test(large_cont_sum)"
   ]
  },
  {
   "cell_type": "code",
   "execution_count": null,
   "metadata": {},
   "outputs": [],
   "source": []
  },
  {
   "cell_type": "code",
   "execution_count": null,
   "metadata": {},
   "outputs": [],
   "source": []
  }
 ],
 "metadata": {
  "kernelspec": {
   "display_name": "Python 3",
   "language": "python",
   "name": "python3"
  },
  "language_info": {
   "codemirror_mode": {
    "name": "ipython",
    "version": 3
   },
   "file_extension": ".py",
   "mimetype": "text/x-python",
   "name": "python",
   "nbconvert_exporter": "python",
   "pygments_lexer": "ipython3",
   "version": "3.7.6"
  }
 },
 "nbformat": 4,
 "nbformat_minor": 4
}
