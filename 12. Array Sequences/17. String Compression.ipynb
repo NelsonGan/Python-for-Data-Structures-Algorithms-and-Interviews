{
 "cells": [
  {
   "cell_type": "code",
   "execution_count": 66,
   "id": "mental-style",
   "metadata": {},
   "outputs": [],
   "source": [
    "def compress(string):\n",
    "    \n",
    "    compressed = \"\"\n",
    "    count = 1\n",
    "    \n",
    "    ##specical case\n",
    "    if len(string) == 0:\n",
    "        compressed = \"\"\n",
    "    \n",
    "    if len(string) == 1:\n",
    "        compressed = compressed + string[0] + \"1\"\n",
    "        \n",
    "    ##normal cases\n",
    "    for i in range(len(string)-1):\n",
    "        if string[i] == string[i+1]:\n",
    "            count += 1\n",
    "        else:\n",
    "            compressed = compressed + string[i] + str(count)\n",
    "            count = 1\n",
    "            \n",
    "        ##If it is the last letter\n",
    "        if (i+2 == len(string)):\n",
    "            compressed = compressed + string[i+1] + str(count)\n",
    "            \n",
    "    return compressed"
   ]
  },
  {
   "cell_type": "code",
   "execution_count": 69,
   "id": "metropolitan-roads",
   "metadata": {},
   "outputs": [
    {
     "data": {
      "text/plain": [
       "'a2B2c2C2'"
      ]
     },
     "execution_count": 69,
     "metadata": {},
     "output_type": "execute_result"
    }
   ],
   "source": [
    "compress(\"aaBBcc\")"
   ]
  },
  {
   "cell_type": "code",
   "execution_count": 67,
   "id": "neutral-principle",
   "metadata": {},
   "outputs": [],
   "source": [
    "def compress(s):\n",
    "    \n",
    "    r = \"\"\n",
    "    l = len(s)\n",
    "    \n",
    "    if l == 0:\n",
    "        return \"\"\n",
    "    \n",
    "    if l == 1:\n",
    "        return s+\"1\"\n",
    "    \n",
    "    cnt = 1\n",
    "    i = 1\n",
    "    \n",
    "    while i < l:\n",
    "        \n",
    "        if s[i] == s[i-1]:\n",
    "            cnt += 1\n",
    "        else:\n",
    "            r = r + s[i-1] + str(cnt)\n",
    "            cnt = 1\n",
    "            \n",
    "        i += 1\n",
    "        \n",
    "    r = r + s[i-1] + str(cnt)\n",
    "    \n",
    "    return r"
   ]
  },
  {
   "cell_type": "code",
   "execution_count": 59,
   "id": "compatible-spanish",
   "metadata": {},
   "outputs": [
    {
     "name": "stdout",
     "output_type": "stream",
     "text": [
      "ALL TEST CASES PASSED\n"
     ]
    }
   ],
   "source": [
    "\"\"\"\n",
    "RUN THIS CELL TO TEST YOUR SOLUTION\n",
    "\"\"\"\n",
    "from nose.tools import assert_equal\n",
    "\n",
    "class TestCompress(object):\n",
    "\n",
    "    def test(self, sol):\n",
    "        assert_equal(sol(''), '')\n",
    "        assert_equal(sol('AABBCC'), 'A2B2C2')\n",
    "        assert_equal(sol('AAABCCDDDDD'), 'A3B1C2D5')\n",
    "        print ('ALL TEST CASES PASSED')\n",
    "\n",
    "# Run Tests\n",
    "t = TestCompress()\n",
    "t.test(compress)"
   ]
  },
  {
   "cell_type": "code",
   "execution_count": null,
   "id": "metropolitan-opportunity",
   "metadata": {},
   "outputs": [],
   "source": []
  }
 ],
 "metadata": {
  "kernelspec": {
   "display_name": "Python 3",
   "language": "python",
   "name": "python3"
  },
  "language_info": {
   "codemirror_mode": {
    "name": "ipython",
    "version": 3
   },
   "file_extension": ".py",
   "mimetype": "text/x-python",
   "name": "python",
   "nbconvert_exporter": "python",
   "pygments_lexer": "ipython3",
   "version": "3.8.5"
  }
 },
 "nbformat": 4,
 "nbformat_minor": 5
}
