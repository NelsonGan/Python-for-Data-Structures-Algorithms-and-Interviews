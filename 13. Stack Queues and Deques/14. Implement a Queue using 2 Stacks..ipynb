{
 "cells": [
  {
   "cell_type": "code",
   "execution_count": 8,
   "id": "fifty-favorite",
   "metadata": {},
   "outputs": [],
   "source": [
    "class Queue2Stacks(object):\n",
    "    \n",
    "    def __init__(self):\n",
    "        \n",
    "        # Two Stacks\n",
    "        self.stack1 = []\n",
    "        self.stack2 = []\n",
    "     \n",
    "    def enqueue(self,element):\n",
    "        \n",
    "        self.stack1.append(element)\n",
    "    \n",
    "    def dequeue(self):\n",
    "        \n",
    "        if self.stack2 == []:\n",
    "            for i in range(len(self.stack1)):\n",
    "                self.stack2.append(self.stack1.pop())\n",
    "                \n",
    "        return self.stack2.pop()"
   ]
  },
  {
   "cell_type": "code",
   "execution_count": 9,
   "id": "dominican-print",
   "metadata": {},
   "outputs": [],
   "source": [
    "q = Queue2Stacks()"
   ]
  },
  {
   "cell_type": "code",
   "execution_count": 10,
   "id": "hispanic-vacuum",
   "metadata": {},
   "outputs": [],
   "source": [
    "q.enqueue(\"1\")"
   ]
  },
  {
   "cell_type": "code",
   "execution_count": 11,
   "id": "rocky-conservative",
   "metadata": {},
   "outputs": [],
   "source": [
    "q.enqueue(\"2\")"
   ]
  },
  {
   "cell_type": "code",
   "execution_count": 12,
   "id": "continental-denver",
   "metadata": {},
   "outputs": [],
   "source": [
    "q.enqueue(\"3\")"
   ]
  },
  {
   "cell_type": "code",
   "execution_count": null,
   "id": "ethical-minority",
   "metadata": {},
   "outputs": [],
   "source": []
  },
  {
   "cell_type": "code",
   "execution_count": null,
   "id": "assisted-kazakhstan",
   "metadata": {},
   "outputs": [],
   "source": []
  },
  {
   "cell_type": "code",
   "execution_count": null,
   "id": "protecting-provision",
   "metadata": {},
   "outputs": [],
   "source": []
  }
 ],
 "metadata": {
  "kernelspec": {
   "display_name": "Python 3",
   "language": "python",
   "name": "python3"
  },
  "language_info": {
   "codemirror_mode": {
    "name": "ipython",
    "version": 3
   },
   "file_extension": ".py",
   "mimetype": "text/x-python",
   "name": "python",
   "nbconvert_exporter": "python",
   "pygments_lexer": "ipython3",
   "version": "3.8.5"
  }
 },
 "nbformat": 4,
 "nbformat_minor": 5
}
