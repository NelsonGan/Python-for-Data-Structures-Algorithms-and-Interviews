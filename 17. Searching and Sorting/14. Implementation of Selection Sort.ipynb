{
 "cells": [
  {
   "cell_type": "code",
   "execution_count": 4,
   "id": "derived-panel",
   "metadata": {},
   "outputs": [],
   "source": [
    "def selection_sort(arr):\n",
    "    \n",
    "    l = len(arr)\n",
    "    \n",
    "    for i in range(l-1):\n",
    "        current_min = arr[i]\n",
    "        index = i\n",
    "        for j in range(i+1,l):  \n",
    "            if arr[j] < current_min:\n",
    "                current_min = arr[j]\n",
    "                index = j\n",
    "        if current_min != arr[i]:\n",
    "            arr[index] = arr[i]\n",
    "            arr[i] = current_min\n",
    "                \n",
    "    return arr"
   ]
  },
  {
   "cell_type": "code",
   "execution_count": 11,
   "id": "electoral-trailer",
   "metadata": {},
   "outputs": [
    {
     "data": {
      "text/plain": [
       "[1, 2, 3, 5]"
      ]
     },
     "execution_count": 11,
     "metadata": {},
     "output_type": "execute_result"
    }
   ],
   "source": [
    "selection_sort([2,5,1,3])"
   ]
  },
  {
   "cell_type": "code",
   "execution_count": null,
   "id": "afraid-external",
   "metadata": {},
   "outputs": [],
   "source": []
  }
 ],
 "metadata": {
  "kernelspec": {
   "display_name": "Python 3",
   "language": "python",
   "name": "python3"
  },
  "language_info": {
   "codemirror_mode": {
    "name": "ipython",
    "version": 3
   },
   "file_extension": ".py",
   "mimetype": "text/x-python",
   "name": "python",
   "nbconvert_exporter": "python",
   "pygments_lexer": "ipython3",
   "version": "3.8.5"
  }
 },
 "nbformat": 4,
 "nbformat_minor": 5
}
