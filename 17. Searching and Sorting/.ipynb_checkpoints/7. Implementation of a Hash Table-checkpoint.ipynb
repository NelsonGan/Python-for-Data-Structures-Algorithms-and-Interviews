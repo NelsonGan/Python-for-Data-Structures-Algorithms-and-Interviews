{
 "cells": [
  {
   "cell_type": "markdown",
   "id": "understanding-rendering",
   "metadata": {},
   "source": [
    "<h1>Collision Resolution</h1>\n",
    "\n",
    "Some of the collison resolutions method are:<br>\n",
    "<uol>\n",
    "    <li>Open Addressing (Move item to other slot)</li>\n",
    "    <li>Chaining (Chain item together)</li>\n",
    "</uol>"
   ]
  },
  {
   "cell_type": "code",
   "execution_count": 37,
   "id": "built-today",
   "metadata": {},
   "outputs": [],
   "source": [
    "class HashTable():\n",
    "    \n",
    "    def __init__(self,size):\n",
    "        self.size = size\n",
    "        self.slots = [None] * self.size\n",
    "        self.data = [None] * self.size\n",
    "        \n",
    "    def put(self,key,data):\n",
    "        #generate hash value\n",
    "        hashvalue = self.hashfunction(key,len(self.slots))\n",
    "        \n",
    "        #if slot is empty\n",
    "        if self.slots[hashvalue] == None:\n",
    "            #insert key and data\n",
    "            self.slots[hashvalue] = key\n",
    "            self.data[hashvalue] = data\n",
    "            \n",
    "        #collision resolution\n",
    "        else:\n",
    "            #if slot alrdy have the key (update data)\n",
    "            if self.slots[hashvalue] == key:\n",
    "                self.data[hashvalue] = data\n",
    "                \n",
    "            #find next available slot\n",
    "            else:\n",
    "                \n",
    "                #find next slot's hash value\n",
    "                nextslot = self.rehash(hashvalue,len(self.slots))\n",
    "                \n",
    "                #keep looping until find an empty slot or found the key value (update data)\n",
    "                while self.slots[nextslot] != None and self.slots[nextslot] != key:\n",
    "                    nextslot = self.rehash(nextslot,len(self.slots))\n",
    "                \n",
    "                #if it is none\n",
    "                if self.slots[nextslot] == None:\n",
    "                    self.slots[nextslot] = key\n",
    "                    self.data[nextslot] = data\n",
    "                 \n",
    "                #if it found the key (update data)\n",
    "                else:\n",
    "                    self.data[nextslot] = data\n",
    "        \n",
    "    def hashfunction(self,key,size):\n",
    "        return key%size\n",
    "    \n",
    "    def rehash(self,oldhash,size):\n",
    "        return (oldhash+1)%size\n",
    "    \n",
    "    def get(self,key):\n",
    "        startslot = self.hashfunction(key,len(self.slots))\n",
    "        data = None\n",
    "        stop = False\n",
    "        found = False\n",
    "        position = startslot\n",
    "        \n",
    "        #while not found and while not stop and while not empty, keep looping\n",
    "        while self.slots[position] != None and not found and not stop:\n",
    "            \n",
    "            #if found, set data\n",
    "            if self.slots[position] == key:\n",
    "                found = True\n",
    "                data = self.data[position]\n",
    "                return data\n",
    "            \n",
    "            #if after rehash still same, stop\n",
    "            else:\n",
    "                position = self.rehash(position,len(self.slots))\n",
    "                \n",
    "                #check if loop through one round or not, if one round alrdy stop, means not found in table\n",
    "                if position == startslot:\n",
    "                    stop = True\n",
    "        \n",
    "        return \"Invalid Key\"\n",
    "    \n",
    "    def __getitem__(self,key):\n",
    "        return self.get(key)\n",
    "    \n",
    "    def __setitem__(self,key,data):\n",
    "        self.put(key,data)\n",
    "        \n",
    "    def visualise(self):\n",
    "        print(self.slots)\n",
    "        print(self.data)"
   ]
  },
  {
   "cell_type": "code",
   "execution_count": 42,
   "id": "absent-distance",
   "metadata": {},
   "outputs": [],
   "source": [
    "h = HashTable(10)"
   ]
  },
  {
   "cell_type": "code",
   "execution_count": 43,
   "id": "cutting-jacket",
   "metadata": {},
   "outputs": [],
   "source": [
    "h[12] = 'pepeg'\n"
   ]
  },
  {
   "cell_type": "code",
   "execution_count": 44,
   "id": "extra-swedish",
   "metadata": {},
   "outputs": [
    {
     "name": "stdout",
     "output_type": "stream",
     "text": [
      "[None, None, 12, None, None, None, None, None, None, None]\n",
      "[None, None, 'pepeg', None, None, None, None, None, None, None]\n"
     ]
    }
   ],
   "source": [
    "h.visualise()"
   ]
  },
  {
   "cell_type": "code",
   "execution_count": null,
   "id": "accomplished-japan",
   "metadata": {},
   "outputs": [],
   "source": []
  },
  {
   "cell_type": "code",
   "execution_count": null,
   "id": "settled-industry",
   "metadata": {},
   "outputs": [],
   "source": []
  },
  {
   "cell_type": "code",
   "execution_count": null,
   "id": "driving-lottery",
   "metadata": {},
   "outputs": [],
   "source": []
  },
  {
   "cell_type": "code",
   "execution_count": null,
   "id": "designing-month",
   "metadata": {},
   "outputs": [],
   "source": []
  },
  {
   "cell_type": "code",
   "execution_count": null,
   "id": "polar-bradford",
   "metadata": {},
   "outputs": [],
   "source": []
  },
  {
   "cell_type": "code",
   "execution_count": null,
   "id": "medical-regression",
   "metadata": {},
   "outputs": [],
   "source": []
  },
  {
   "cell_type": "code",
   "execution_count": null,
   "id": "absent-original",
   "metadata": {},
   "outputs": [],
   "source": []
  }
 ],
 "metadata": {
  "kernelspec": {
   "display_name": "Python 3",
   "language": "python",
   "name": "python3"
  },
  "language_info": {
   "codemirror_mode": {
    "name": "ipython",
    "version": 3
   },
   "file_extension": ".py",
   "mimetype": "text/x-python",
   "name": "python",
   "nbconvert_exporter": "python",
   "pygments_lexer": "ipython3",
   "version": "3.8.5"
  }
 },
 "nbformat": 4,
 "nbformat_minor": 5
}
