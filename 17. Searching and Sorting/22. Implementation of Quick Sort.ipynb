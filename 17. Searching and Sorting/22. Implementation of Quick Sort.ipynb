{
 "cells": [
  {
   "cell_type": "code",
   "execution_count": 61,
   "id": "reverse-translator",
   "metadata": {},
   "outputs": [],
   "source": [
    "#only used to call quick_sort_helper without entering 2 more parameters\n",
    "def quick_sort(arr):\n",
    "    \n",
    "    #len(arr) - 1 because using indexing\n",
    "    quick_sort_help(arr,0,len(arr)-1)\n",
    "\n",
    "#main quick sort function\n",
    "def quick_sort_help(arr, first, last):\n",
    "\n",
    "    if len(arr) == 1:\n",
    "        return arr    \n",
    "    \n",
    "    #this essentially checks if first the partition size is greater than 1\n",
    "    if first < last:\n",
    "        #find the position of split point after partition\n",
    "        splitpoint = partition(arr, first, last)\n",
    "        \n",
    "        #recursively call partition on left half\n",
    "        quick_sort_help(arr, first, splitpoint-1)\n",
    "        \n",
    "        #recursively call partition on right half\n",
    "        quick_sort_help(arr, splitpoint+1, last)\n",
    "\n",
    "#partition function\n",
    "def partition(arr, first, last):\n",
    "    pivotvalue = arr[first]\n",
    "    leftmark = first+1\n",
    "    rightmark = last\n",
    "    done = False\n",
    "    \n",
    "    while not done:\n",
    "        \n",
    "        #keep moving left mark to the right, until find a value bigger than pivot (because break if smaller)\n",
    "        while leftmark <= rightmark and arr[leftmark] <= pivotvalue:\n",
    "            leftmark += 1\n",
    "        \n",
    "        #keep moving right mark to the left, until find a value smaller than pivot (because break if bigger)\n",
    "        while rightmark >= leftmark and arr[rightmark] > pivotvalue:\n",
    "            rightmark -= 1\n",
    "        \n",
    "        #break if left/right mark cross\n",
    "        if rightmark < leftmark:\n",
    "            done = True\n",
    "            \n",
    "        else:\n",
    "            #swap left and right\n",
    "            temp = arr[leftmark]\n",
    "            arr[leftmark] = arr[rightmark]\n",
    "            arr[rightmark] = temp\n",
    "    \n",
    "    #swap position of the pivot with the rightmark, essentially placing pivot at the middle\n",
    "    temp = arr[first]\n",
    "    arr[first] = arr[rightmark]\n",
    "    arr[rightmark] = temp\n",
    "    \n",
    "    return rightmark"
   ]
  },
  {
   "cell_type": "code",
   "execution_count": 62,
   "id": "aboriginal-technical",
   "metadata": {},
   "outputs": [],
   "source": [
    "import random\n",
    "arr1 = []\n",
    "arr2 = []\n",
    "\n",
    "for x in range(1000):\n",
    "    tmp = random.randint(0,1000)\n",
    "    arr1.append(tmp)\n",
    "    arr2.append(tmp)"
   ]
  },
  {
   "cell_type": "code",
   "execution_count": null,
   "id": "obvious-grave",
   "metadata": {},
   "outputs": [],
   "source": []
  },
  {
   "cell_type": "code",
   "execution_count": null,
   "id": "legitimate-contractor",
   "metadata": {},
   "outputs": [],
   "source": []
  }
 ],
 "metadata": {
  "kernelspec": {
   "display_name": "Python 3",
   "language": "python",
   "name": "python3"
  },
  "language_info": {
   "codemirror_mode": {
    "name": "ipython",
    "version": 3
   },
   "file_extension": ".py",
   "mimetype": "text/x-python",
   "name": "python",
   "nbconvert_exporter": "python",
   "pygments_lexer": "ipython3",
   "version": "3.8.5"
  }
 },
 "nbformat": 4,
 "nbformat_minor": 5
}
