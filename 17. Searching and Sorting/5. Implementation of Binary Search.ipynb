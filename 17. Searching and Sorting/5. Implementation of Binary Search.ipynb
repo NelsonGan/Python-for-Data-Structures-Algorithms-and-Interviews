{
 "cells": [
  {
   "cell_type": "code",
   "execution_count": 1,
   "id": "technical-group",
   "metadata": {},
   "outputs": [],
   "source": [
    "def binary_search(arr,ele):\n",
    "    \n",
    "    first = 0\n",
    "    last = len(arr) - 1\n",
    "    found = False\n",
    "    \n",
    "    while first <= last and not found:\n",
    "        mid = (first+last)//2\n",
    "        \n",
    "        #if found\n",
    "        if arr[mid] == ele:\n",
    "            found = True\n",
    "        #if not found\n",
    "        else:\n",
    "            if ele < arr[mid]:\n",
    "                #use left half\n",
    "                last = mid-1\n",
    "            else:\n",
    "                #use right half\n",
    "                first = mid+1\n",
    "\n",
    "    return found"
   ]
  },
  {
   "cell_type": "code",
   "execution_count": 2,
   "id": "concrete-extent",
   "metadata": {},
   "outputs": [],
   "source": [
    "arr = [x for x in range(1000)]"
   ]
  },
  {
   "cell_type": "code",
   "execution_count": 10,
   "id": "floppy-tolerance",
   "metadata": {},
   "outputs": [
    {
     "name": "stdout",
     "output_type": "stream",
     "text": [
      "1.87 µs ± 14.8 ns per loop (mean ± std. dev. of 7 runs, 100000 loops each)\n"
     ]
    }
   ],
   "source": [
    "%%timeit\n",
    "binary_search(arr,890)"
   ]
  },
  {
   "cell_type": "code",
   "execution_count": null,
   "id": "seeing-albany",
   "metadata": {},
   "outputs": [],
   "source": []
  }
 ],
 "metadata": {
  "kernelspec": {
   "display_name": "Python 3",
   "language": "python",
   "name": "python3"
  },
  "language_info": {
   "codemirror_mode": {
    "name": "ipython",
    "version": 3
   },
   "file_extension": ".py",
   "mimetype": "text/x-python",
   "name": "python",
   "nbconvert_exporter": "python",
   "pygments_lexer": "ipython3",
   "version": "3.8.5"
  }
 },
 "nbformat": 4,
 "nbformat_minor": 5
}
