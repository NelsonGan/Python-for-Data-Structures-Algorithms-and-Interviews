{
 "cells": [
  {
   "cell_type": "code",
   "execution_count": 16,
   "id": "spectacular-sherman",
   "metadata": {},
   "outputs": [],
   "source": [
    "def bubble_sort(arr):\n",
    "    \n",
    "    l = len(arr)\n",
    "    \n",
    "    # -1 because if got n elements, only n-1 action to swap \n",
    "    \n",
    "    for i in range(l-1):\n",
    "    \n",
    "        # -1 because using [j+1] index\n",
    "        \n",
    "        for j in range(l-i-1):\n",
    "            if arr[j] > arr[j+1]:\n",
    "                tmp = arr[j]\n",
    "                arr[j] = arr[j+1]\n",
    "                arr[j+1] = tmp\n",
    "            \n",
    "    return arr"
   ]
  },
  {
   "cell_type": "code",
   "execution_count": 19,
   "id": "progressive-superintendent",
   "metadata": {},
   "outputs": [
    {
     "data": {
      "text/plain": [
       "[1, 1, 3, 5, 5, 6, 31, 90]"
      ]
     },
     "execution_count": 19,
     "metadata": {},
     "output_type": "execute_result"
    }
   ],
   "source": [
    "bubble_sort([5,6,1,3,1,31,5,90])"
   ]
  },
  {
   "cell_type": "code",
   "execution_count": null,
   "id": "universal-messenger",
   "metadata": {},
   "outputs": [],
   "source": [
    "[5,6,1,3]\n",
    "[5,1,3,6]\n",
    "[1,3,5,6]\n",
    "[1,3,5,6]"
   ]
  },
  {
   "cell_type": "code",
   "execution_count": null,
   "id": "announced-bedroom",
   "metadata": {},
   "outputs": [],
   "source": []
  },
  {
   "cell_type": "code",
   "execution_count": null,
   "id": "german-beijing",
   "metadata": {},
   "outputs": [],
   "source": []
  }
 ],
 "metadata": {
  "kernelspec": {
   "display_name": "Python 3",
   "language": "python",
   "name": "python3"
  },
  "language_info": {
   "codemirror_mode": {
    "name": "ipython",
    "version": 3
   },
   "file_extension": ".py",
   "mimetype": "text/x-python",
   "name": "python",
   "nbconvert_exporter": "python",
   "pygments_lexer": "ipython3",
   "version": "3.8.5"
  }
 },
 "nbformat": 4,
 "nbformat_minor": 5
}
